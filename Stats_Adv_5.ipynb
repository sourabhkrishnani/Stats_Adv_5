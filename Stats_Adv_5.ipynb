{
  "nbformat": 4,
  "nbformat_minor": 0,
  "metadata": {
    "colab": {
      "provenance": []
    },
    "kernelspec": {
      "name": "python3",
      "display_name": "Python 3"
    },
    "language_info": {
      "name": "python"
    }
  },
  "cells": [
    {
      "cell_type": "markdown",
      "source": [
        "### Q1"
      ],
      "metadata": {
        "id": "-A4u12ZuCoU2"
      }
    },
    {
      "cell_type": "code",
      "execution_count": 1,
      "metadata": {
        "colab": {
          "base_uri": "https://localhost:8080/"
        },
        "id": "U0QNkESsCl4g",
        "outputId": "8d66537e-261f-4b5d-a195-389fa1737a21"
      },
      "outputs": [
        {
          "output_type": "stream",
          "name": "stdout",
          "text": [
            "95% Confidence Interval: (48.21, 51.79)\n"
          ]
        }
      ],
      "source": [
        "import scipy.stats as stats\n",
        "\n",
        "# Given data\n",
        "mean = 50\n",
        "std_dev = 5\n",
        "n = 30  # Assume a sample size of 30\n",
        "confidence_level = 0.95\n",
        "\n",
        "# Calculate the margin of error\n",
        "z_score = stats.norm.ppf((1 + confidence_level) / 2)  # Z-critical value\n",
        "margin_of_error = z_score * (std_dev / (n ** 0.5))\n",
        "\n",
        "# Calculate the confidence interval\n",
        "lower_bound = mean - margin_of_error\n",
        "upper_bound = mean + margin_of_error\n",
        "\n",
        "print(f\"95% Confidence Interval: ({lower_bound:.2f}, {upper_bound:.2f})\")\n"
      ]
    },
    {
      "cell_type": "markdown",
      "source": [
        "### Q2"
      ],
      "metadata": {
        "id": "uTueoptYCoYU"
      }
    },
    {
      "cell_type": "markdown",
      "source": [
        "To conduct a Chi-Square Goodness of Fit test in Python, we compare the observed distribution of colors in a bag of M&Ms to the expected distribution. The Chi-Square test checks if there is a significant difference between the observed and expected frequencies."
      ],
      "metadata": {
        "id": "4S4m3aD7CobE"
      }
    },
    {
      "cell_type": "markdown",
      "source": [
        "Steps for the Chi-Square Test:\n",
        "#Define the observed frequencies: the actual counts of each color of M&Ms in a bag.\n",
        "#Define the expected frequencies: based on the given expected percentages.\n",
        "#Use the Chi-Square formula:\n",
        "𝜒\n",
        "2\n",
        "=\n",
        "∑\n",
        "(\n",
        "𝑂\n",
        "𝑖\n",
        "−\n",
        "𝐸\n",
        "𝑖\n",
        ")\n",
        "2\n",
        "𝐸\n",
        "𝑖\n",
        "χ\n",
        "2\n",
        " =∑\n",
        "E\n",
        "i\n",
        "​\n",
        "\n",
        "(O\n",
        "i\n",
        "​\n",
        " −E\n",
        "i\n",
        "​\n",
        " )\n",
        "2\n",
        "\n",
        "​\n",
        "\n",
        "#where\n",
        "𝑂\n",
        "𝑖\n",
        "O\n",
        "i\n",
        "​\n",
        "  = observed frequency,\n",
        "𝐸\n",
        "𝑖\n",
        "E\n",
        "i\n",
        "​\n",
        "  = expected frequency.\n",
        "Compare the calculated\n",
        "𝜒\n",
        "2\n",
        "χ\n",
        "2\n",
        "  statistic with the critical value or p-value at the 0.05 significance level."
      ],
      "metadata": {
        "id": "x3OLDb9lCodU"
      }
    },
    {
      "cell_type": "code",
      "source": [
        "from scipy.stats import chisquare\n",
        "\n",
        "# Observed frequencies (replace with actual counts from your M&Ms bag)\n",
        "observed_frequencies = [22, 18, 20, 12, 8, 20]  # Example counts: blue, orange, green, yellow, red, brown\n",
        "\n",
        "# Expected frequencies (based on 20% blue, 20% orange, etc.)\n",
        "total_mms = sum(observed_frequencies)  # Total number of M&Ms\n",
        "expected_percentages = [0.2, 0.2, 0.2, 0.1, 0.1, 0.2]  # Expected proportions\n",
        "expected_frequencies = [p * total_mms for p in expected_percentages]  # Expected counts\n",
        "\n",
        "# Perform the Chi-Square Goodness of Fit test\n",
        "chi2_statistic, p_value = chisquare(f_obs=observed_frequencies, f_exp=expected_frequencies)\n",
        "\n",
        "# Print results\n",
        "print(f\"Chi-Square Statistic: {chi2_statistic:.2f}\")\n",
        "print(f\"P-Value: {p_value:.4f}\")\n",
        "\n",
        "# Interpret the results\n",
        "alpha = 0.05\n",
        "if p_value < alpha:\n",
        "    print(\"Reject the null hypothesis: The observed distribution does not match the expected distribution.\")\n",
        "else:\n",
        "    print(\"Fail to reject the null hypothesis: The observed distribution matches the expected distribution.\")\n"
      ],
      "metadata": {
        "colab": {
          "base_uri": "https://localhost:8080/"
        },
        "id": "eU_EKcNmOepM",
        "outputId": "faaa18f2-0e55-4394-e6fa-88617ef39b67"
      },
      "execution_count": 2,
      "outputs": [
        {
          "output_type": "stream",
          "name": "stdout",
          "text": [
            "Chi-Square Statistic: 1.20\n",
            "P-Value: 0.9449\n",
            "Fail to reject the null hypothesis: The observed distribution matches the expected distribution.\n"
          ]
        }
      ]
    },
    {
      "cell_type": "markdown",
      "source": [
        "### Q3"
      ],
      "metadata": {
        "id": "omfGiTOdCoiF"
      }
    },
    {
      "cell_type": "code",
      "source": [
        "import numpy as np\n",
        "from scipy.stats import chi2_contingency\n",
        "\n",
        "# Contingency table\n",
        "data = np.array([\n",
        "    [20, 10, 15],  # Group A\n",
        "    [15, 25, 20]   # Group B\n",
        "])\n",
        "\n",
        "# Perform Chi-Square test\n",
        "chi2_statistic, p_value, dof, expected_frequencies = chi2_contingency(data)\n",
        "\n",
        "# Print results\n",
        "print(f\"Chi-Square Statistic: {chi2_statistic:.2f}\")\n",
        "print(f\"P-Value: {p_value:.4f}\")\n",
        "print(f\"Degrees of Freedom: {dof}\")\n",
        "print(\"Expected Frequencies:\")\n",
        "print(expected_frequencies)\n",
        "\n",
        "# Interpret the results\n",
        "alpha = 0.05\n",
        "if p_value < alpha:\n",
        "    print(\"Reject the null hypothesis: There is a significant association between groups and outcomes.\")\n",
        "else:\n",
        "    print(\"Fail to reject the null hypothesis: No significant association between groups and outcomes.\")\n"
      ],
      "metadata": {
        "colab": {
          "base_uri": "https://localhost:8080/"
        },
        "id": "-NSUf4dHOcUQ",
        "outputId": "de29131c-f936-4e84-8f63-f9dddd56cd6e"
      },
      "execution_count": 3,
      "outputs": [
        {
          "output_type": "stream",
          "name": "stdout",
          "text": [
            "Chi-Square Statistic: 5.83\n",
            "P-Value: 0.0541\n",
            "Degrees of Freedom: 2\n",
            "Expected Frequencies:\n",
            "[[15. 15. 15.]\n",
            " [20. 20. 20.]]\n",
            "Fail to reject the null hypothesis: No significant association between groups and outcomes.\n"
          ]
        }
      ]
    },
    {
      "cell_type": "markdown",
      "source": [
        "### Q4"
      ],
      "metadata": {
        "id": "QNdXfPvTOcCQ"
      }
    },
    {
      "cell_type": "code",
      "source": [
        "import math\n",
        "from statsmodels.stats.proportion import proportion_confint\n",
        "\n",
        "# Given data\n",
        "n = 500  # Total sample size\n",
        "x = 60   # Number of individuals who smoke\n",
        "p_hat = x / n  # Sample proportion\n",
        "\n",
        "# Z-value for 95% confidence interval\n",
        "z = 1.96\n",
        "\n",
        "# Calculate standard error\n",
        "se = math.sqrt((p_hat * (1 - p_hat)) / n)\n",
        "\n",
        "# Calculate confidence interval\n",
        "lower_bound = p_hat - z * se\n",
        "upper_bound = p_hat + z * se\n",
        "\n",
        "# Print results\n",
        "print(f\"Sample Proportion (p̂): {p_hat:.4f}\")\n",
        "print(f\"95% Confidence Interval: ({lower_bound:.4f}, {upper_bound:.4f})\")\n",
        "\n",
        "# Alternative method using statsmodels\n",
        "lower, upper = proportion_confint(count=x, nobs=n, alpha=0.05, method='normal')\n",
        "print(f\"Using statsmodels: 95% Confidence Interval: ({lower:.4f}, {upper:.4f})\")\n"
      ],
      "metadata": {
        "colab": {
          "base_uri": "https://localhost:8080/"
        },
        "id": "l8nKUEYXPrrt",
        "outputId": "ac726503-d1be-46d5-b7ae-967a7ecb4f13"
      },
      "execution_count": 4,
      "outputs": [
        {
          "output_type": "stream",
          "name": "stdout",
          "text": [
            "Sample Proportion (p̂): 0.1200\n",
            "95% Confidence Interval: (0.0915, 0.1485)\n",
            "Using statsmodels: 95% Confidence Interval: (0.0915, 0.1485)\n"
          ]
        }
      ]
    },
    {
      "cell_type": "markdown",
      "source": [
        "### Q5"
      ],
      "metadata": {
        "id": "OTwi_3mMCol3"
      }
    },
    {
      "cell_type": "code",
      "source": [
        "import math\n",
        "from scipy.stats import norm\n",
        "\n",
        "# Given data\n",
        "mean = 75           # Sample mean\n",
        "std_dev = 12        # Standard deviation\n",
        "sample_size = 30    # Assume a sample size of 30\n",
        "confidence_level = 0.90\n",
        "\n",
        "# Z-value for 90% confidence interval\n",
        "z_value = norm.ppf((1 + confidence_level) / 2)\n",
        "\n",
        "# Standard error\n",
        "se = std_dev / math.sqrt(sample_size)\n",
        "\n",
        "# Confidence interval\n",
        "lower_bound = mean - z_value * se\n",
        "upper_bound = mean + z_value * se\n",
        "\n",
        "# Print results\n",
        "print(f\"Sample Mean: {mean}\")\n",
        "print(f\"Standard Deviation: {std_dev}\")\n",
        "print(f\"Z-Value for 90% CI: {z_value:.3f}\")\n",
        "print(f\"Standard Error: {se:.3f}\")\n",
        "print(f\"90% Confidence Interval: ({lower_bound:.2f}, {upper_bound:.2f})\")\n"
      ],
      "metadata": {
        "colab": {
          "base_uri": "https://localhost:8080/"
        },
        "id": "SvLZY2zhQCmT",
        "outputId": "0d262fb8-e574-4c3d-c6fd-c170a411e190"
      },
      "execution_count": 5,
      "outputs": [
        {
          "output_type": "stream",
          "name": "stdout",
          "text": [
            "Sample Mean: 75\n",
            "Standard Deviation: 12\n",
            "Z-Value for 90% CI: 1.645\n",
            "Standard Error: 2.191\n",
            "90% Confidence Interval: (71.40, 78.60)\n"
          ]
        }
      ]
    },
    {
      "cell_type": "markdown",
      "source": [
        "### Q6"
      ],
      "metadata": {
        "id": "EK4EIVyECopG"
      }
    },
    {
      "cell_type": "code",
      "source": [
        "import numpy as np\n",
        "import matplotlib.pyplot as plt\n",
        "from scipy.stats import chi2\n",
        "\n",
        "# Parameters\n",
        "df = 10  # Degrees of freedom\n",
        "x_stat = 15  # Chi-square statistic to shade area\n",
        "\n",
        "# Generate x values and corresponding y values for the chi-square distribution\n",
        "x = np.linspace(0, 30, 1000)  # Range of x-axis\n",
        "y = chi2.pdf(x, df)\n",
        "\n",
        "# Plot the chi-square distribution\n",
        "plt.figure(figsize=(8, 5))\n",
        "plt.plot(x, y, label=f\"Chi-Square Distribution (df={df})\", color=\"blue\")\n",
        "\n",
        "# Shade the area corresponding to chi-square statistic > 15\n",
        "x_shade = np.linspace(x_stat, 30, 500)\n",
        "y_shade = chi2.pdf(x_shade, df)\n",
        "plt.fill_between(x_shade, y_shade, color=\"red\", alpha=0.5, label=f\"Area for χ² > {x_stat}\")\n",
        "\n",
        "# Add labels, legend, and grid\n",
        "plt.title(\"Chi-Square Distribution with 10 Degrees of Freedom\")\n",
        "plt.xlabel(\"Chi-Square Statistic (χ²)\")\n",
        "plt.ylabel(\"Probability Density Function\")\n",
        "plt.axvline(x_stat, color=\"red\", linestyle=\"--\", label=f\"χ² = {x_stat}\")\n",
        "plt.legend()\n",
        "plt.grid(True)\n",
        "\n",
        "# Show the plot\n",
        "plt.show()\n"
      ],
      "metadata": {
        "colab": {
          "base_uri": "https://localhost:8080/",
          "height": 487
        },
        "id": "qaLEjhvSQIQJ",
        "outputId": "191e55c4-561c-43a0-a423-ddfdfb0e3da5"
      },
      "execution_count": 6,
      "outputs": [
        {
          "output_type": "display_data",
          "data": {
            "text/plain": [
              "<Figure size 800x500 with 1 Axes>"
            ],
            "image/png": "[encoded data removed]"
          },
          "metadata": {}
        }
      ]
    },
    {
      "cell_type": "markdown",
      "source": [
        "### Q7"
      ],
      "metadata": {
        "id": "8DvwJU6ZQm1_"
      }
    },
    {
      "cell_type": "code",
      "source": [
        "import math\n",
        "from scipy.stats import norm\n",
        "\n",
        "# Given data\n",
        "n = 1000          # Sample size\n",
        "x = 520           # Number of people who prefer Coke\n",
        "p_hat = x / n     # Sample proportion\n",
        "\n",
        "# Z-value for 99% confidence interval\n",
        "z_value = norm.ppf(0.995)  # 99% confidence level (two-tailed)\n",
        "\n",
        "# Standard error\n",
        "se = math.sqrt((p_hat * (1 - p_hat)) / n)\n",
        "\n",
        "# Confidence interval\n",
        "lower_bound = p_hat - z_value * se\n",
        "upper_bound = p_hat + z_value * se\n",
        "\n",
        "# Print results\n",
        "print(f\"Sample Proportion (p̂): {p_hat:.4f}\")\n",
        "print(f\"Standard Error: {se:.4f}\")\n",
        "print(f\"Z-Value for 99% CI: {z_value:.3f}\")\n",
        "print(f\"99% Confidence Interval: ({lower_bound:.4f}, {upper_bound:.4f})\")\n"
      ],
      "metadata": {
        "colab": {
          "base_uri": "https://localhost:8080/"
        },
        "id": "VIP_Q6X2QikF",
        "outputId": "cbdbd3e2-62a3-4e4f-b381-c42c8a798527"
      },
      "execution_count": 7,
      "outputs": [
        {
          "output_type": "stream",
          "name": "stdout",
          "text": [
            "Sample Proportion (p̂): 0.5200\n",
            "Standard Error: 0.0158\n",
            "Z-Value for 99% CI: 2.576\n",
            "99% Confidence Interval: (0.4793, 0.5607)\n"
          ]
        }
      ]
    },
    {
      "cell_type": "markdown",
      "source": [
        "### Q8"
      ],
      "metadata": {
        "id": "02hXru1KQm5f"
      }
    },
    {
      "cell_type": "code",
      "source": [
        "from scipy.stats import chi2\n",
        "\n",
        "# Given data\n",
        "observed = [45, 55]  # Observed frequencies: Tails and Heads\n",
        "expected = [50, 50]  # Expected frequencies for a fair coin\n",
        "\n",
        "# Calculate the chi-square statistic\n",
        "chi_square_stat = sum((o - e)**2 / e for o, e in zip(observed, expected))\n",
        "\n",
        "# Degrees of freedom\n",
        "df = 1\n",
        "\n",
        "# Critical value for alpha = 0.05\n",
        "critical_value = chi2.ppf(0.95, df)\n",
        "\n",
        "# p-value\n",
        "p_value = 1 - chi2.cdf(chi_square_stat, df)\n",
        "\n",
        "# Print results\n",
        "print(f\"Chi-Square Statistic: {chi_square_stat:.4f}\")\n",
        "print(f\"Critical Value at 0.05 significance: {critical_value:.4f}\")\n",
        "print(f\"P-Value: {p_value:.4f}\")\n",
        "\n",
        "# Decision\n",
        "if chi_square_stat > critical_value or p_value < 0.05:\n",
        "    print(\"Reject the null hypothesis: The coin is likely biased.\")\n",
        "else:\n",
        "    print(\"Fail to reject the null hypothesis: The coin appears fair.\")\n"
      ],
      "metadata": {
        "colab": {
          "base_uri": "https://localhost:8080/"
        },
        "id": "T2XSAbmRQlsx",
        "outputId": "b9ef8396-c77c-44e5-bb8b-bdbb18c381f9"
      },
      "execution_count": 8,
      "outputs": [
        {
          "output_type": "stream",
          "name": "stdout",
          "text": [
            "Chi-Square Statistic: 1.0000\n",
            "Critical Value at 0.05 significance: 3.8415\n",
            "P-Value: 0.3173\n",
            "Fail to reject the null hypothesis: The coin appears fair.\n"
          ]
        }
      ]
    },
    {
      "cell_type": "markdown",
      "source": [
        "### Q9"
      ],
      "metadata": {
        "id": "udQAdY0OQnLi"
      }
    },
    {
      "cell_type": "code",
      "source": [
        "import numpy as np\n",
        "from scipy.stats import chi2_contingency\n",
        "\n",
        "# Contingency Table\n",
        "observed = np.array([[60, 140],  # Smoker\n",
        "                     [30, 170]]) # Non-Smoker\n",
        "\n",
        "# Perform Chi-Square Test\n",
        "chi2_stat, p_value, dof, expected = chi2_contingency(observed)\n",
        "\n",
        "# Results\n",
        "print(f\"Chi-Square Statistic: {chi2_stat:.4f}\")\n",
        "print(f\"P-Value: {p_value:.4f}\")\n",
        "print(f\"Degrees of Freedom: {dof}\")\n",
        "print(\"Expected Frequencies:\")\n",
        "print(expected)\n",
        "\n",
        "# Decision\n",
        "alpha = 0.05\n",
        "if p_value < alpha:\n",
        "    print(\"Reject the null hypothesis: There is a significant association between smoking status and lung cancer diagnosis.\")\n",
        "else:\n",
        "    print(\"Fail to reject the null hypothesis: No significant association between smoking status and lung cancer diagnosis.\")\n"
      ],
      "metadata": {
        "colab": {
          "base_uri": "https://localhost:8080/"
        },
        "id": "CUC6lN3dQl4-",
        "outputId": "d295f2bb-6558-4be4-e2db-40524e416448"
      },
      "execution_count": 9,
      "outputs": [
        {
          "output_type": "stream",
          "name": "stdout",
          "text": [
            "Chi-Square Statistic: 12.0573\n",
            "P-Value: 0.0005\n",
            "Degrees of Freedom: 1\n",
            "Expected Frequencies:\n",
            "[[ 45. 155.]\n",
            " [ 45. 155.]]\n",
            "Reject the null hypothesis: There is a significant association between smoking status and lung cancer diagnosis.\n"
          ]
        }
      ]
    },
    {
      "cell_type": "markdown",
      "source": [
        "### Q10"
      ],
      "metadata": {
        "id": "AOqOsRlXSQhD"
      }
    },
    {
      "cell_type": "code",
      "source": [
        "import numpy as np\n",
        "from scipy.stats import chi2_contingency\n",
        "\n",
        "# Contingency Table\n",
        "observed = np.array([[200, 150, 150],  # U.S. Preferences\n",
        "                     [225, 175, 100]]) # U.K. Preferences\n",
        "\n",
        "# Perform Chi-Square Test\n",
        "chi2_stat, p_value, dof, expected = chi2_contingency(observed)\n",
        "\n",
        "# Results\n",
        "print(f\"Chi-Square Statistic: {chi2_stat:.4f}\")\n",
        "print(f\"P-Value: {p_value:.4f}\")\n",
        "print(f\"Degrees of Freedom: {dof}\")\n",
        "print(\"Expected Frequencies:\")\n",
        "print(expected)\n",
        "\n",
        "# Decision\n",
        "alpha = 0.05\n",
        "if p_value < alpha:\n",
        "    print(\"Reject the null hypothesis: There is a significant association between chocolate preference and country of origin.\")\n",
        "else:\n",
        "    print(\"Fail to reject the null hypothesis: No significant association between chocolate preference and country of origin.\")\n"
      ],
      "metadata": {
        "colab": {
          "base_uri": "https://localhost:8080/"
        },
        "id": "ifOQBXmaRyCy",
        "outputId": "f98c2f5b-b147-4832-b26e-21ecc1a23a08"
      },
      "execution_count": 10,
      "outputs": [
        {
          "output_type": "stream",
          "name": "stdout",
          "text": [
            "Chi-Square Statistic: 13.3937\n",
            "P-Value: 0.0012\n",
            "Degrees of Freedom: 2\n",
            "Expected Frequencies:\n",
            "[[212.5 162.5 125. ]\n",
            " [212.5 162.5 125. ]]\n",
            "Reject the null hypothesis: There is a significant association between chocolate preference and country of origin.\n"
          ]
        }
      ]
    },
    {
      "cell_type": "markdown",
      "source": [
        "### Q11"
      ],
      "metadata": {
        "id": "UuYzhoWZSQkp"
      }
    },
    {
      "cell_type": "code",
      "source": [
        "from scipy import stats\n",
        "import math\n",
        "\n",
        "# Given values\n",
        "sample_mean = 72\n",
        "population_mean = 70\n",
        "sample_std = 10\n",
        "n = 30\n",
        "alpha = 0.05\n",
        "\n",
        "# Calculate the t-statistic\n",
        "t_stat = (sample_mean - population_mean) / (sample_std / math.sqrt(n))\n",
        "\n",
        "# Degrees of freedom\n",
        "df = n - 1\n",
        "\n",
        "# Calculate the p-value for a two-tailed test\n",
        "p_value = 2 * stats.t.cdf(-abs(t_stat), df)\n",
        "\n",
        "# Results\n",
        "print(f\"t-statistic: {t_stat:.4f}\")\n",
        "print(f\"P-value: {p_value:.4f}\")\n",
        "\n",
        "# Decision based on significance level\n",
        "if p_value < alpha:\n",
        "    print(\"Reject the null hypothesis: There is a significant difference between the sample mean and 70.\")\n",
        "else:\n",
        "    print(\"Fail to reject the null hypothesis: There is no significant difference between the sample mean and 70.\")\n"
      ],
      "metadata": {
        "colab": {
          "base_uri": "https://localhost:8080/"
        },
        "id": "MBJHDseSSdds",
        "outputId": "5d62d37f-9838-4670-f0b2-52478e77b51d"
      },
      "execution_count": 11,
      "outputs": [
        {
          "output_type": "stream",
          "name": "stdout",
          "text": [
            "t-statistic: 1.0954\n",
            "P-value: 0.2823\n",
            "Fail to reject the null hypothesis: There is no significant difference between the sample mean and 70.\n"
          ]
        }
      ]
    },
    {
      "cell_type": "code",
      "source": [],
      "metadata": {
        "id": "tWJhGU_7SoU0"
      },
      "execution_count": null,
      "outputs": []
    }
  ]
}